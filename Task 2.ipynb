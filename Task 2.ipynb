1)List Comprehension

if __name__ == '__main__':
    x = int(input())
    y = int(input())
    z = int(input())
    n = int(input())
    
    print([[i,j,k] for i in range(x+1) for j in range(y+1) for k in range(z+1) if (i+j+k)!=n ])

2)Find the Runner-Up Score!

if __name__ == '__main__':
    n = int(input())
    arr = map(int, input().split())
    
    print(sorted(list(set(arr)))[-2])

3)Nested Lists

if __name__ == '__main__':
        
    l = []
    second_lowest_names = []
    scores = set()

    for _ in range(int(input())):
        name = input()
        score = float(input())
        l.append([name, score])
        scores.add(score)
            
    second_lowest = sorted(scores)[1]

    for name, score in l:
        if score == second_lowest:
            second_lowest_names.append(name)

    for name in sorted(second_lowest_names):
        print(name, end='\n')

4)Finding the Percentage

if __name__ == '__main__':
    n = int(input())
    student_marks = {}
    for _ in range(n):
        name, *line = input().split()
        scores = list(map(float, line))
        student_marks[name] = scores
    query_name = input()

5)Lists

if __name__ == '__main__':
    N = int(input())
    
    l=[]
    
    for _ in range(N):
        inp=list(input().split())
                
        if "insert" in inp:
            l.insert(int(inp[1]),int(inp[2]))
        if "print" in inp:
            print(l)
        if "remove" in inp:
            l.remove(int(inp[1]))
        if "append" in inp:
            l.append(int(inp[1]))
        if "sort" in inp:
            l.sort()
        if "pop" in inp:
            l.pop()
        if "reverse" in inp:
            l.reverse()

6)Tuples

if __name__ == '__main__':
    n = int(input())
    integer_list = map(int, input().split())

7)Introduction to Sets

def average(array):
    # your code goes here
    set_arr = set(array)
    return sum(set_arr)/len(set_arr)

if __name__ == '__main__':


8)No Idea

# Enter your code here. Read input from STDIN. Print output to STDOUT
a=input().split(' ')
l=([int(i) for i in input().split(' ')])
firstset=set([int(i) for i in input().split(' ')])
secondset=set([int(i) for i in input().split(' ')])
p=0
for i in l:
    if i in firstset:
        p+=1
    if i in secondset:
        p-=1
print(p)

9)Symmetric Difference

input()
a = set(map(int, input().split()))
input()
b = set(map(int, input().split()))

print(*sorted(a ^ b), sep='\n')

10)Set.add()

# Enter your code here. Read input from STDIN. Print output to STDOUT
a=int(input())
s=set()
for i in range(a):
    s.add(input())

print(len(s))

11)Set .discard(), .remove() & .pop()

n, s = int(input()), set(map(int, input().split()[::-1]))
for _ in range(int(input())):
    method, *args = input().split()
    getattr(s, method)(*map(int, *args)) if args else getattr(s, method)()
print(sum(s))

12)Set.union() Operation

n, N = (int(input()), set(map(int, input().split())))
b, B = (int(input()), set(map(int, input().split())))
print(len(N.union(B)))

13)Set.intersection() Operation

n, N = (int(input()), set(map(int, input().split())))
b, B = (int(input()), set(map(int, input().split())))
print(len(N.intersection(B)))

14)Set .symmetric_difference() Operation

n, N = (int(input()), set(map(int, input().split())))
b, B = (int(input()), set(map(int, input().split())))
print(len(N.symmetric_difference(B)))

15)Set .difference() Operation

n, N = (int(input()), set(map(int, input().split())))
b, B = (int(input()), set(map(int, input().split())))
print(len(N.symmetric_difference(B)))

16)Set Mutuations

n = int(input())
A = set(map(int, input().split()))
N = int(input())
operations = []
for i in range(N):
    op, dummy = input().split()
    numbers = set(map(int, input().split()))
    operations.append((op, numbers))
for op, numbers in operations:
    if(op == 'intersection_update'):
        A &= numbers
    if(op == 'symmetric_difference_update'):
        A ^= numbers
    if(op == 'difference_update'):
        A -= numbers
    if(op == 'update'):
        A |= numbers
print(sum(A))

17)The Captain's Room

k = int(input())
frequency_map = {}
for i in map(int, input().split()):
    if i in frequency_map:
        frequency_map[i] += 1
    else:
        frequency_map[i] = 1
for i in frequency_map:
    if frequency_map[i] == 1:
        print(i)

18)Check Subset

for _ in range(int(input())):
    input()
    a = set(input().split())
    input()
    print(a.issubset(input().split()))

19) Check Strict Superset

A = set(input().split())
sup = True
for _ in range(int(input())):
    B = set(input().split())
    if not (A > B):
        sup = False
        break
print (sup)



















